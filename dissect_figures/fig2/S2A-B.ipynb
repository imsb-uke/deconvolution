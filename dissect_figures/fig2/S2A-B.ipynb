{
 "cells": [
  {
   "cell_type": "code",
   "execution_count": 1,
   "id": "074283e8-8bcc-49d7-9f73-60f3b8f700b7",
   "metadata": {},
   "outputs": [
    {
     "name": "stderr",
     "output_type": "stream",
     "text": [
      "/opt/conda/lib/python3.9/site-packages/pandas/core/computation/expressions.py:21: UserWarning: Pandas requires version '2.8.0' or newer of 'numexpr' (version '2.7.3' currently installed).\n",
      "  from pandas.core.computation.check import NUMEXPR_INSTALLED\n"
     ]
    }
   ],
   "source": [
    "import os\n",
    "import numpy as np\n",
    "import pandas as pd\n",
    "from sklearn.metrics import mean_squared_error\n",
    "import matplotlib.pyplot as plt\n",
    "import seaborn as sns"
   ]
  },
  {
   "cell_type": "code",
   "execution_count": 2,
   "id": "9b29e8b6-87b0-47f6-8c0b-ac124b76911e",
   "metadata": {},
   "outputs": [],
   "source": [
    "import warnings\n",
    "warnings.simplefilter(action='ignore', category=FutureWarning) \n",
    "# ignores FutureWarnings. Helps in readbility.\n",
    "# Since we are using a conda envrionment with defined package versions we are not concerned with changes in a package's future releases.\n"
   ]
  },
  {
   "cell_type": "code",
   "execution_count": 3,
   "id": "74dfd0ca-2066-4bd4-87bb-13e23d058fc4",
   "metadata": {},
   "outputs": [],
   "source": [
    "datadir = \"data\"\n",
    "savedir = \"plots\"\n",
    "\n",
    "if not os.path.exists(savedir):\n",
    "    os.mkdir(savedir)"
   ]
  },
  {
   "cell_type": "code",
   "execution_count": 4,
   "id": "87c9a801-31a6-4243-a283-ac356998d847",
   "metadata": {},
   "outputs": [],
   "source": [
    "sns.set(style=\"whitegrid\", font_scale=1.2)"
   ]
  },
  {
   "cell_type": "markdown",
   "id": "e41fc9c1-4fa2-4a3a-9150-5cf306940f83",
   "metadata": {},
   "source": [
    "## 2A"
   ]
  },
  {
   "cell_type": "code",
   "execution_count": 5,
   "id": "691c2324-2bb4-41e5-b7e2-68376036a210",
   "metadata": {},
   "outputs": [],
   "source": [
    "df_music = pd.read_table(os.path.join(datadir, \"MuSiC_ica.txt\"), index_col=0).T\n",
    "df_music = df_music[[\"rmse_orig\", \"rmse_ica\"]]"
   ]
  },
  {
   "cell_type": "code",
   "execution_count": 6,
   "id": "e0667af6-d385-4309-a3b9-1f80df38c400",
   "metadata": {},
   "outputs": [],
   "source": [
    "df_music.rename(columns={\"rmse_orig\": \"MuSiC\",\n",
    "                         \"rmse_ica\": \"MuSiC (ICA)\"}, inplace=True)"
   ]
  },
  {
   "cell_type": "code",
   "execution_count": 7,
   "id": "38c02c79-825a-4a24-8d21-e179a446b0e7",
   "metadata": {},
   "outputs": [],
   "source": [
    "df_music[\"dataset\"] = df_music.index.tolist() "
   ]
  },
  {
   "cell_type": "code",
   "execution_count": 8,
   "id": "9661b7fb-8b05-4ad7-a0f1-f822786f9d4b",
   "metadata": {},
   "outputs": [],
   "source": [
    "df_music = df_music.melt(id_vars=[\"dataset\"])\n",
    "df_music.rename(columns={\"variable\": \"Method\", \"value\": \"rmse\"},\n",
    "         inplace=True)"
   ]
  },
  {
   "cell_type": "code",
   "execution_count": 9,
   "id": "02d2a514-8742-4115-b3f7-b3f75caffe78",
   "metadata": {},
   "outputs": [
    {
     "data": {
      "text/html": [
       "<div>\n",
       "<style scoped>\n",
       "    .dataframe tbody tr th:only-of-type {\n",
       "        vertical-align: middle;\n",
       "    }\n",
       "\n",
       "    .dataframe tbody tr th {\n",
       "        vertical-align: top;\n",
       "    }\n",
       "\n",
       "    .dataframe thead th {\n",
       "        text-align: right;\n",
       "    }\n",
       "</style>\n",
       "<table border=\"1\" class=\"dataframe\">\n",
       "  <thead>\n",
       "    <tr style=\"text-align: right;\">\n",
       "      <th></th>\n",
       "      <th>dataset</th>\n",
       "      <th>Method</th>\n",
       "      <th>rmse</th>\n",
       "    </tr>\n",
       "  </thead>\n",
       "  <tbody>\n",
       "    <tr>\n",
       "      <th>0</th>\n",
       "      <td>SDY67</td>\n",
       "      <td>MuSiC</td>\n",
       "      <td>0.294505</td>\n",
       "    </tr>\n",
       "    <tr>\n",
       "      <th>1</th>\n",
       "      <td>Monaco I</td>\n",
       "      <td>MuSiC</td>\n",
       "      <td>0.236327</td>\n",
       "    </tr>\n",
       "    <tr>\n",
       "      <th>2</th>\n",
       "      <td>Monaco II</td>\n",
       "      <td>MuSiC</td>\n",
       "      <td>0.233858</td>\n",
       "    </tr>\n",
       "    <tr>\n",
       "      <th>3</th>\n",
       "      <td>GSE65133</td>\n",
       "      <td>MuSiC</td>\n",
       "      <td>0.242204</td>\n",
       "    </tr>\n",
       "    <tr>\n",
       "      <th>4</th>\n",
       "      <td>GSE107572</td>\n",
       "      <td>MuSiC</td>\n",
       "      <td>0.215689</td>\n",
       "    </tr>\n",
       "    <tr>\n",
       "      <th>5</th>\n",
       "      <td>GSE120502</td>\n",
       "      <td>MuSiC</td>\n",
       "      <td>0.337709</td>\n",
       "    </tr>\n",
       "    <tr>\n",
       "      <th>6</th>\n",
       "      <td>SDY67</td>\n",
       "      <td>MuSiC (ICA)</td>\n",
       "      <td>0.173000</td>\n",
       "    </tr>\n",
       "    <tr>\n",
       "      <th>7</th>\n",
       "      <td>Monaco I</td>\n",
       "      <td>MuSiC (ICA)</td>\n",
       "      <td>0.113000</td>\n",
       "    </tr>\n",
       "    <tr>\n",
       "      <th>8</th>\n",
       "      <td>Monaco II</td>\n",
       "      <td>MuSiC (ICA)</td>\n",
       "      <td>0.210000</td>\n",
       "    </tr>\n",
       "    <tr>\n",
       "      <th>9</th>\n",
       "      <td>GSE65133</td>\n",
       "      <td>MuSiC (ICA)</td>\n",
       "      <td>0.200000</td>\n",
       "    </tr>\n",
       "    <tr>\n",
       "      <th>10</th>\n",
       "      <td>GSE107572</td>\n",
       "      <td>MuSiC (ICA)</td>\n",
       "      <td>0.099000</td>\n",
       "    </tr>\n",
       "    <tr>\n",
       "      <th>11</th>\n",
       "      <td>GSE120502</td>\n",
       "      <td>MuSiC (ICA)</td>\n",
       "      <td>0.101000</td>\n",
       "    </tr>\n",
       "  </tbody>\n",
       "</table>\n",
       "</div>"
      ],
      "text/plain": [
       "      dataset       Method      rmse\n",
       "0       SDY67        MuSiC  0.294505\n",
       "1    Monaco I        MuSiC  0.236327\n",
       "2   Monaco II        MuSiC  0.233858\n",
       "3    GSE65133        MuSiC  0.242204\n",
       "4   GSE107572        MuSiC  0.215689\n",
       "5   GSE120502        MuSiC  0.337709\n",
       "6       SDY67  MuSiC (ICA)  0.173000\n",
       "7    Monaco I  MuSiC (ICA)  0.113000\n",
       "8   Monaco II  MuSiC (ICA)  0.210000\n",
       "9    GSE65133  MuSiC (ICA)  0.200000\n",
       "10  GSE107572  MuSiC (ICA)  0.099000\n",
       "11  GSE120502  MuSiC (ICA)  0.101000"
      ]
     },
     "execution_count": 9,
     "metadata": {},
     "output_type": "execute_result"
    }
   ],
   "source": [
    "df_music"
   ]
  },
  {
   "cell_type": "code",
   "execution_count": 10,
   "id": "be49d2eb-edff-4b72-a9d5-52823cda7493",
   "metadata": {},
   "outputs": [
    {
     "data": {
      "image/png": "[encoded data removed]",
      "text/plain": [
       "<Figure size 360x216 with 1 Axes>"
      ]
     },
     "metadata": {
      "needs_background": "light"
     },
     "output_type": "display_data"
    }
   ],
   "source": [
    "plt.figure(figsize=(5,3))\n",
    "sns.barplot(data=df_music, hue=\"Method\", x=\"dataset\", y=\"rmse\",\n",
    "           palette=\"colorblind\", ci=None)\n",
    "plt.legend(loc='center left', bbox_to_anchor=(1, 0.5), frameon=False)\n",
    "# plt.ylabel(r\"$r$\")\n",
    "plt.ylabel(\"rmse\")\n",
    "plt.ylim(0,0.41)\n",
    "plt.yticks(np.arange(0,0.41,0.05))\n",
    "plt.xlabel(\"\")\n",
    "plt.xticks(rotation=45, ha=\"right\")\n",
    "plt.savefig(os.path.join(savedir, \"S2A_average_rmse_music.pdf\"), bbox_inches=\"tight\")\n",
    "plt.savefig(os.path.join(savedir, \"S2A_average_rmse_music.png\"), bbox_inches=\"tight\", dpi=300)"
   ]
  },
  {
   "cell_type": "markdown",
   "id": "c5bc285c-a19a-4dc2-9577-a76127a0c2b7",
   "metadata": {},
   "source": [
    "## 2B"
   ]
  },
  {
   "cell_type": "code",
   "execution_count": 11,
   "id": "691d22db-72f1-4c46-981c-043fda4b2912",
   "metadata": {},
   "outputs": [],
   "source": [
    "df_music = pd.read_table(os.path.join(datadir, \"MuSiC_ica.txt\"), index_col=0).T\n",
    "df_music = df_music[[\"r_orig\", \"r_ica\"]]"
   ]
  },
  {
   "cell_type": "code",
   "execution_count": 12,
   "id": "02693efa-bc48-4bc0-857a-2b31d5981d13",
   "metadata": {},
   "outputs": [],
   "source": [
    "df_music.rename(columns={\"r_orig\": \"MuSiC\",\n",
    "                         \"r_ica\": \"MuSiC (ICA)\"}, inplace=True)"
   ]
  },
  {
   "cell_type": "code",
   "execution_count": 13,
   "id": "2b8b184a-b634-4fa3-9413-425dfe2efcb3",
   "metadata": {},
   "outputs": [],
   "source": [
    "df_music[\"dataset\"] = df_music.index.tolist() "
   ]
  },
  {
   "cell_type": "code",
   "execution_count": 14,
   "id": "09dca180-71fa-4eb1-ba38-a3bdd97ff5f9",
   "metadata": {},
   "outputs": [],
   "source": [
    "df_music = df_music.melt(id_vars=[\"dataset\"])\n",
    "df_music.rename(columns={\"variable\": \"Method\", \"value\": \"r\"},\n",
    "         inplace=True)"
   ]
  },
  {
   "cell_type": "code",
   "execution_count": 15,
   "id": "570c34a4-a439-4133-97a0-09a4abd449aa",
   "metadata": {},
   "outputs": [
    {
     "data": {
      "text/html": [
       "<div>\n",
       "<style scoped>\n",
       "    .dataframe tbody tr th:only-of-type {\n",
       "        vertical-align: middle;\n",
       "    }\n",
       "\n",
       "    .dataframe tbody tr th {\n",
       "        vertical-align: top;\n",
       "    }\n",
       "\n",
       "    .dataframe thead th {\n",
       "        text-align: right;\n",
       "    }\n",
       "</style>\n",
       "<table border=\"1\" class=\"dataframe\">\n",
       "  <thead>\n",
       "    <tr style=\"text-align: right;\">\n",
       "      <th></th>\n",
       "      <th>dataset</th>\n",
       "      <th>Method</th>\n",
       "      <th>r</th>\n",
       "    </tr>\n",
       "  </thead>\n",
       "  <tbody>\n",
       "    <tr>\n",
       "      <th>0</th>\n",
       "      <td>SDY67</td>\n",
       "      <td>MuSiC</td>\n",
       "      <td>0.168183</td>\n",
       "    </tr>\n",
       "    <tr>\n",
       "      <th>1</th>\n",
       "      <td>Monaco I</td>\n",
       "      <td>MuSiC</td>\n",
       "      <td>0.537191</td>\n",
       "    </tr>\n",
       "    <tr>\n",
       "      <th>2</th>\n",
       "      <td>Monaco II</td>\n",
       "      <td>MuSiC</td>\n",
       "      <td>0.472584</td>\n",
       "    </tr>\n",
       "    <tr>\n",
       "      <th>3</th>\n",
       "      <td>GSE65133</td>\n",
       "      <td>MuSiC</td>\n",
       "      <td>0.293400</td>\n",
       "    </tr>\n",
       "    <tr>\n",
       "      <th>4</th>\n",
       "      <td>GSE107572</td>\n",
       "      <td>MuSiC</td>\n",
       "      <td>0.505512</td>\n",
       "    </tr>\n",
       "    <tr>\n",
       "      <th>5</th>\n",
       "      <td>GSE120502</td>\n",
       "      <td>MuSiC</td>\n",
       "      <td>0.129509</td>\n",
       "    </tr>\n",
       "    <tr>\n",
       "      <th>6</th>\n",
       "      <td>SDY67</td>\n",
       "      <td>MuSiC (ICA)</td>\n",
       "      <td>0.557000</td>\n",
       "    </tr>\n",
       "    <tr>\n",
       "      <th>7</th>\n",
       "      <td>Monaco I</td>\n",
       "      <td>MuSiC (ICA)</td>\n",
       "      <td>0.684000</td>\n",
       "    </tr>\n",
       "    <tr>\n",
       "      <th>8</th>\n",
       "      <td>Monaco II</td>\n",
       "      <td>MuSiC (ICA)</td>\n",
       "      <td>0.592000</td>\n",
       "    </tr>\n",
       "    <tr>\n",
       "      <th>9</th>\n",
       "      <td>GSE65133</td>\n",
       "      <td>MuSiC (ICA)</td>\n",
       "      <td>0.554000</td>\n",
       "    </tr>\n",
       "    <tr>\n",
       "      <th>10</th>\n",
       "      <td>GSE107572</td>\n",
       "      <td>MuSiC (ICA)</td>\n",
       "      <td>0.542000</td>\n",
       "    </tr>\n",
       "    <tr>\n",
       "      <th>11</th>\n",
       "      <td>GSE120502</td>\n",
       "      <td>MuSiC (ICA)</td>\n",
       "      <td>0.567000</td>\n",
       "    </tr>\n",
       "  </tbody>\n",
       "</table>\n",
       "</div>"
      ],
      "text/plain": [
       "      dataset       Method         r\n",
       "0       SDY67        MuSiC  0.168183\n",
       "1    Monaco I        MuSiC  0.537191\n",
       "2   Monaco II        MuSiC  0.472584\n",
       "3    GSE65133        MuSiC  0.293400\n",
       "4   GSE107572        MuSiC  0.505512\n",
       "5   GSE120502        MuSiC  0.129509\n",
       "6       SDY67  MuSiC (ICA)  0.557000\n",
       "7    Monaco I  MuSiC (ICA)  0.684000\n",
       "8   Monaco II  MuSiC (ICA)  0.592000\n",
       "9    GSE65133  MuSiC (ICA)  0.554000\n",
       "10  GSE107572  MuSiC (ICA)  0.542000\n",
       "11  GSE120502  MuSiC (ICA)  0.567000"
      ]
     },
     "execution_count": 15,
     "metadata": {},
     "output_type": "execute_result"
    }
   ],
   "source": [
    "df_music"
   ]
  },
  {
   "cell_type": "code",
   "execution_count": 16,
   "id": "ad330032-ac62-4e6b-bee2-5349c8e06031",
   "metadata": {},
   "outputs": [
    {
     "data": {
      "image/png": "[encoded data removed]",
      "text/plain": [
       "<Figure size 360x216 with 1 Axes>"
      ]
     },
     "metadata": {
      "needs_background": "light"
     },
     "output_type": "display_data"
    }
   ],
   "source": [
    "plt.figure(figsize=(5,3))\n",
    "sns.barplot(data=df_music, hue=\"Method\", x=\"dataset\", y=\"r\",\n",
    "           palette=\"colorblind\", ci=None)\n",
    "plt.legend(loc='center left', bbox_to_anchor=(1, 0.5), frameon=False)\n",
    "# plt.ylabel(r\"$r$\")\n",
    "plt.ylabel(\"r\")\n",
    "plt.ylim(0,1)\n",
    "plt.yticks(np.arange(0,1,0.1))\n",
    "plt.xlabel(\"\")\n",
    "plt.xticks(rotation=45, ha=\"right\")\n",
    "plt.savefig(os.path.join(savedir, \"S2B_average_r_music.pdf\"), bbox_inches=\"tight\")\n",
    "plt.savefig(os.path.join(savedir, \"S2B_average_r_music.png\"), bbox_inches=\"tight\", dpi=300)"
   ]
  },
  {
   "cell_type": "code",
   "execution_count": null,
   "id": "80961c1f-615f-4058-b9f7-efeb7a0fdcd6",
   "metadata": {},
   "outputs": [],
   "source": []
  }
 ],
 "metadata": {
  "kernelspec": {
   "display_name": "Python 3 (ipykernel)",
   "language": "python",
   "name": "python3"
  },
  "language_info": {
   "codemirror_mode": {
    "name": "ipython",
    "version": 3
   },
   "file_extension": ".py",
   "mimetype": "text/x-python",
   "name": "python",
   "nbconvert_exporter": "python",
   "pygments_lexer": "ipython3",
   "version": "3.9.6"
  }
 },
 "nbformat": 4,
 "nbformat_minor": 5
}
