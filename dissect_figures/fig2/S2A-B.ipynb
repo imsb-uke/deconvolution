{
 "cells": [
  {
   "cell_type": "code",
   "execution_count": 45,
   "id": "074283e8-8bcc-49d7-9f73-60f3b8f700b7",
   "metadata": {},
   "outputs": [],
   "source": [
    "import os\n",
    "import numpy as np\n",
    "import pandas as pd\n",
    "from sklearn.metrics import mean_squared_error\n",
    "import matplotlib.pyplot as plt\n",
    "import seaborn as sns"
   ]
  },
  {
   "cell_type": "code",
   "execution_count": 46,
   "id": "9b29e8b6-87b0-47f6-8c0b-ac124b76911e",
   "metadata": {},
   "outputs": [],
   "source": [
    "import warnings\n",
    "warnings.simplefilter(action='ignore', category=FutureWarning) \n",
    "# ignores FutureWarnings. Helps in readbility.\n",
    "# Since we are using a conda envrionment with defined package versions we are not concerned with changes in a package's future releases.\n"
   ]
  },
  {
   "cell_type": "code",
   "execution_count": 47,
   "id": "74dfd0ca-2066-4bd4-87bb-13e23d058fc4",
   "metadata": {},
   "outputs": [],
   "source": [
    "datadir = \"data\"\n",
    "savedir = \"plots\"\n",
    "\n",
    "if not os.path.exists(savedir):\n",
    "    os.mkdir(savedir)"
   ]
  },
  {
   "cell_type": "code",
   "execution_count": 48,
   "id": "87c9a801-31a6-4243-a283-ac356998d847",
   "metadata": {},
   "outputs": [],
   "source": [
    "sns.set(style=\"whitegrid\", font_scale=1.2)"
   ]
  },
  {
   "cell_type": "markdown",
   "id": "e41fc9c1-4fa2-4a3a-9150-5cf306940f83",
   "metadata": {},
   "source": [
    "## 2A"
   ]
  },
  {
   "cell_type": "code",
   "execution_count": 49,
   "id": "691c2324-2bb4-41e5-b7e2-68376036a210",
   "metadata": {},
   "outputs": [],
   "source": [
    "df_music = pd.read_table(os.path.join(datadir, \"MuSiC_ica.txt\"), index_col=0).T\n",
    "df_music = df_music[[\"rmse_orig\", \"rmse_ica\", \"rmse_m\"]]"
   ]
  },
  {
   "cell_type": "code",
   "execution_count": 50,
   "id": "e0667af6-d385-4309-a3b9-1f80df38c400",
   "metadata": {},
   "outputs": [],
   "source": [
    "df_music.rename(columns={\"rmse_orig\": \"MuSiC\",\n",
    "                        \"rmse_ica\": \"MuSiC (ICA)\",\n",
    "                         \"rmse_m\": \"MuSiC-M\",\n",
    "                        }, inplace=True)"
   ]
  },
  {
   "cell_type": "code",
   "execution_count": 52,
   "id": "988cfac3-f540-4ef9-a200-134936a67cc6",
   "metadata": {},
   "outputs": [
    {
     "data": {
      "text/plain": [
       "SDY67       -0.024505\n",
       "Monaco I    -0.046327\n",
       "Monaco II    0.018142\n",
       "GSE65133     0.007796\n",
       "GSE107572    0.024311\n",
       "GSE120502   -0.037709\n",
       "dtype: float64"
      ]
     },
     "execution_count": 52,
     "metadata": {},
     "output_type": "execute_result"
    }
   ],
   "source": [
    "df_music[\"MuSiC-M\"]-df_music[\"MuSiC\"]"
   ]
  },
  {
   "cell_type": "code",
   "execution_count": 41,
   "id": "38c02c79-825a-4a24-8d21-e179a446b0e7",
   "metadata": {},
   "outputs": [],
   "source": [
    "df_music[\"dataset\"] = df_music.index.tolist() "
   ]
  },
  {
   "cell_type": "code",
   "execution_count": 42,
   "id": "9661b7fb-8b05-4ad7-a0f1-f822786f9d4b",
   "metadata": {},
   "outputs": [],
   "source": [
    "df_music = df_music.melt(id_vars=[\"dataset\"])\n",
    "df_music.rename(columns={\"variable\": \"Method\", \"value\": \"rmse\"},\n",
    "         inplace=True)"
   ]
  },
  {
   "cell_type": "code",
   "execution_count": 43,
   "id": "02d2a514-8742-4115-b3f7-b3f75caffe78",
   "metadata": {},
   "outputs": [],
   "source": [
    "order = [\"MuSiC\", \"MuSiC-M\", \"MuSiC (ICA)\"]"
   ]
  },
  {
   "cell_type": "code",
   "execution_count": 27,
   "id": "be49d2eb-edff-4b72-a9d5-52823cda7493",
   "metadata": {},
   "outputs": [
    {
     "data": {
      "image/png": "[encoded data removed]",
      "text/plain": [
       "<Figure size 360x216 with 1 Axes>"
      ]
     },
     "metadata": {},
     "output_type": "display_data"
    }
   ],
   "source": [
    "plt.figure(figsize=(5,3))\n",
    "sns.barplot(data=df_music, hue=\"Method\", x=\"dataset\", y=\"rmse\",\n",
    "           palette=\"colorblind\", ci=None, hue_order=order)\n",
    "plt.legend(loc='center left', bbox_to_anchor=(1, 0.5), frameon=False)\n",
    "# plt.ylabel(r\"$r$\")\n",
    "plt.ylabel(\"rmse\")\n",
    "plt.ylim(0,0.41)\n",
    "plt.yticks(np.arange(0,0.41,0.05))\n",
    "plt.xlabel(\"\")\n",
    "plt.xticks(rotation=45, ha=\"right\")\n",
    "plt.savefig(os.path.join(savedir, \"S2A_average_rmse_music.pdf\"), bbox_inches=\"tight\")\n",
    "plt.savefig(os.path.join(savedir, \"S2A_average_rmse_music.png\"), transparent=False, bbox_inches=\"tight\", dpi=300)"
   ]
  },
  {
   "cell_type": "markdown",
   "id": "c5bc285c-a19a-4dc2-9577-a76127a0c2b7",
   "metadata": {},
   "source": [
    "## 2B"
   ]
  },
  {
   "cell_type": "code",
   "execution_count": 53,
   "id": "691d22db-72f1-4c46-981c-043fda4b2912",
   "metadata": {},
   "outputs": [],
   "source": [
    "df_music = pd.read_table(os.path.join(datadir, \"MuSiC_ica.txt\"), index_col=0).T\n",
    "df_music = df_music[[\"r_orig\", \"r_ica\", \"r_m\"]]"
   ]
  },
  {
   "cell_type": "code",
   "execution_count": 54,
   "id": "02693efa-bc48-4bc0-857a-2b31d5981d13",
   "metadata": {},
   "outputs": [],
   "source": [
    "df_music.rename(columns={\"r_orig\": \"MuSiC\",\n",
    "                         \"r_ica\": \"MuSiC (ICA)\",\n",
    "                         \"r_m\": \"MuSiC-M\",}, inplace=True)"
   ]
  },
  {
   "cell_type": "code",
   "execution_count": 57,
   "id": "3138bc5b-7e9e-4677-827a-9ea45437cf4c",
   "metadata": {},
   "outputs": [
    {
     "data": {
      "text/plain": [
       "SDY67        0.111817\n",
       "Monaco I     0.012809\n",
       "Monaco II   -0.022584\n",
       "GSE65133     0.036600\n",
       "GSE107572   -0.015512\n",
       "GSE120502    0.160491\n",
       "dtype: float64"
      ]
     },
     "execution_count": 57,
     "metadata": {},
     "output_type": "execute_result"
    }
   ],
   "source": [
    "df_music[\"MuSiC-M\"]-df_music[\"MuSiC\"]"
   ]
  },
  {
   "cell_type": "code",
   "execution_count": 31,
   "id": "9ac933db-1c6d-42fd-a70f-fd93a578ab84",
   "metadata": {},
   "outputs": [
    {
     "data": {
      "text/plain": [
       "['MuSiC', 'MuSiC-M', 'MuSiC (ICA)']"
      ]
     },
     "execution_count": 31,
     "metadata": {},
     "output_type": "execute_result"
    }
   ],
   "source": [
    "order"
   ]
  },
  {
   "cell_type": "code",
   "execution_count": 32,
   "id": "2b8b184a-b634-4fa3-9413-425dfe2efcb3",
   "metadata": {},
   "outputs": [],
   "source": [
    "df_music[\"dataset\"] = df_music.index.tolist() "
   ]
  },
  {
   "cell_type": "code",
   "execution_count": 33,
   "id": "09dca180-71fa-4eb1-ba38-a3bdd97ff5f9",
   "metadata": {},
   "outputs": [],
   "source": [
    "df_music = df_music.melt(id_vars=[\"dataset\"])\n",
    "df_music.rename(columns={\"variable\": \"Method\", \"value\": \"r\"},\n",
    "         inplace=True)"
   ]
  },
  {
   "cell_type": "code",
   "execution_count": null,
   "id": "ad330032-ac62-4e6b-bee2-5349c8e06031",
   "metadata": {},
   "outputs": [],
   "source": [
    "plt.figure(figsize=(5,3))\n",
    "sns.barplot(data=df_music, hue=\"Method\", x=\"dataset\", y=\"r\",\n",
    "           palette=\"colorblind\", ci=None, hue_order=order)\n",
    "plt.legend(loc='center left', bbox_to_anchor=(1, 0.5), frameon=False)\n",
    "# plt.ylabel(r\"$r$\")\n",
    "plt.ylabel(\"r\")\n",
    "plt.ylim(0,1)\n",
    "plt.yticks(np.arange(0,1,0.1))\n",
    "plt.xlabel(\"\")\n",
    "plt.xticks(rotation=45, ha=\"right\")\n",
    "plt.savefig(os.path.join(savedir, \"S2B_average_r_music.pdf\"), bbox_inches=\"tight\")\n",
    "plt.savefig(os.path.join(savedir, \"S2B_average_r_music.png\"), transparent=False, bbox_inches=\"tight\", dpi=300)"
   ]
  },
  {
   "cell_type": "code",
   "execution_count": null,
   "id": "80961c1f-615f-4058-b9f7-efeb7a0fdcd6",
   "metadata": {},
   "outputs": [],
   "source": []
  }
 ],
 "metadata": {
  "kernelspec": {
   "display_name": "Python 3 (ipykernel)",
   "language": "python",
   "name": "python3"
  },
  "language_info": {
   "codemirror_mode": {
    "name": "ipython",
    "version": 3
   },
   "file_extension": ".py",
   "mimetype": "text/x-python",
   "name": "python",
   "nbconvert_exporter": "python",
   "pygments_lexer": "ipython3",
   "version": "3.9.6"
  }
 },
 "nbformat": 4,
 "nbformat_minor": 5
}
