{
 "cells": [
  {
   "cell_type": "code",
   "execution_count": 1,
   "id": "c47a2362-fc81-4762-bdf2-cb5c23decbcd",
   "metadata": {},
   "outputs": [
    {
     "name": "stderr",
     "output_type": "stream",
     "text": [
      "/opt/conda/lib/python3.9/site-packages/pandas/core/computation/expressions.py:21: UserWarning: Pandas requires version '2.8.0' or newer of 'numexpr' (version '2.7.3' currently installed).\n",
      "  from pandas.core.computation.check import NUMEXPR_INSTALLED\n"
     ]
    }
   ],
   "source": [
    "import os\n",
    "import numpy as np\n",
    "import pandas as pd\n",
    "import matplotlib.pyplot as plt\n",
    "import seaborn as sns\n",
    "import itertools\n",
    "import copy"
   ]
  },
  {
   "cell_type": "code",
   "execution_count": 2,
   "id": "8c4ac49b-afd4-4b33-af85-5ba88b987624",
   "metadata": {},
   "outputs": [],
   "source": [
    "comb = [\"Park\", \"Miao\"]"
   ]
  },
  {
   "cell_type": "code",
   "execution_count": 3,
   "id": "55df1c2e-f12d-4dab-a48d-adf919863a89",
   "metadata": {},
   "outputs": [],
   "source": [
    "import warnings\n",
    "warnings.simplefilter(action='ignore', category=FutureWarning) \n",
    "# ignores FutureWarnings. Helps in readbility.\n",
    "# Since we are using a conda envrionment with defined package versions we are not concerned with changes in a package's future releases.\n"
   ]
  },
  {
   "cell_type": "code",
   "execution_count": 4,
   "id": "aa164e0d-16ed-462d-b7a7-81ed571b37e6",
   "metadata": {},
   "outputs": [],
   "source": [
    "datadir = \"data\"\n",
    "savedir = \"plots\"\n",
    "\n",
    "if not os.path.exists(savedir):\n",
    "    os.mkdir(savedir)"
   ]
  },
  {
   "cell_type": "code",
   "execution_count": 13,
   "id": "8f56b3b9-9e40-4424-b596-cdbe62b4eda1",
   "metadata": {},
   "outputs": [],
   "source": [
    "jsds_glob_dict = {}\n",
    "jsds_glob_means_dict = {}\n",
    "jsds_glob_stds_dict = {}\n",
    "\n",
    "cat0, cat1 = comb[0], comb[1]\n",
    "methods = [\"MuSiC\", \"CibersortX\", \"Scaden\", \"TAPE-O\", \"TAPE-A\", \"BayesPrism\", \"BayesPrism-M\", \"DISSECT\"]\n",
    "\n",
    "results = [os.path.join(datadir, \"{}_{}.csv\").format(method.replace(\" \", \"_\"), cat0.lower()) for method in methods]\n",
    "results_dict = dict(zip(methods, results))\n",
    "\n",
    "results = [os.path.join(datadir, \"{}_{}.csv\").format(method.replace(\" \", \"_\"), cat1.lower()) for method in methods]\n",
    "results_dict1 = dict(zip(methods, results))\n",
    "\n",
    "df_results_dict = {}\n",
    "for method in results_dict.keys():\n",
    "    df = pd.read_csv(results_dict[method], index_col=0)\n",
    "    # df[df<0] = 0\n",
    "    df_results_dict[method] = df\n",
    "    \n",
    "df_results_dict1 = {}\n",
    "for method in results_dict1.keys():\n",
    "    df = pd.read_csv(results_dict1[method], index_col=0)\n",
    "    # df[df<0] = 0\n",
    "    df_results_dict1[method] = df\n",
    "    \n",
    "common = list(set(df_results_dict[\"MuSiC\"].columns)&set(df_results_dict1[\"MuSiC\"].columns))\n",
    "\n",
    "from scipy.spatial.distance import jensenshannon as jsd\n",
    "jsds_dict = {}\n",
    "jsds_means_dict = {}\n",
    "jsds_stds_dict = {}\n",
    "for method in methods:\n",
    "    x = df_results_dict[method][common]\n",
    "    x = x.div(x.sum(1),0)\n",
    "    y = df_results_dict1[method][common]\n",
    "    y = y.div(x.sum(1),0)\n",
    "    jsds_ls = []\n",
    "    for i in range(x.shape[0]):\n",
    "        jsds_ls.append(jsd(x.iloc[i,:], y.iloc[i,:]))\n",
    "    jsds_dict[method] = jsds_ls\n",
    "    jsds_means_dict[method] = np.mean(jsds_ls)\n",
    "    jsds_stds_dict[method] = np.std(jsds_ls)\n",
    "    \n",
    "jsds_glob_dict[\"_\".join(comb)] = copy.deepcopy(jsds_dict)\n",
    "jsds_glob_means_dict[\"_\".join(comb)] = copy.deepcopy(jsds_means_dict)\n",
    "jsds_glob_stds_dict[\"_\".join(comb)] = copy.deepcopy(jsds_stds_dict)"
   ]
  },
  {
   "cell_type": "code",
   "execution_count": 14,
   "id": "015b9dcd-0eae-4299-b859-8ac1ad61a2eb",
   "metadata": {},
   "outputs": [],
   "source": [
    "colors_dict = {'MuSiC': '#0173b2',\n",
    "                 'CibersortX': '#de8f05',\n",
    "                 'Scaden': '#029e73',\n",
    "                 'TAPE-O': '#d55e00',\n",
    "                 'TAPE-A': '#cc78bc',\n",
    "                 'Linear MLPs': '#ca9161',\n",
    "                 'BayesPrism': '#ece133',\n",
    "                 'BayesPrism-M': '#949494',\n",
    "                 'DISSECT': '#fbafe4'} # same colors as in main"
   ]
  },
  {
   "cell_type": "code",
   "execution_count": null,
   "id": "7ff3a75c-18ba-4cd3-b272-19d31505f10b",
   "metadata": {},
   "outputs": [],
   "source": []
  },
  {
   "cell_type": "code",
   "execution_count": 15,
   "id": "094f0c46-d037-4d52-ba78-a2d60e8d367c",
   "metadata": {},
   "outputs": [],
   "source": [
    "sns.set(style=\"whitegrid\", font_scale=1.3)"
   ]
  },
  {
   "cell_type": "code",
   "execution_count": 16,
   "id": "64049e48-b1a1-4598-9433-cd0955e7dabe",
   "metadata": {},
   "outputs": [
    {
     "data": {
      "image/png": "[encoded data removed]",
      "text/plain": [
       "<Figure size 1008x288 with 1 Axes>"
      ]
     },
     "metadata": {
      "needs_background": "light"
     },
     "output_type": "display_data"
    }
   ],
   "source": [
    "i=1\n",
    "\n",
    "plt.figure(figsize=(14,4))\n",
    "indices = list(range(len(jsds_glob_dict[\"_\".join(comb)][\"MuSiC\"])))\n",
    "\n",
    "df = pd.DataFrame(index=indices, columns=methods)\n",
    "\n",
    "for method in methods:\n",
    "    df[method] = jsds_glob_dict[\"_\".join(comb)][method]\n",
    "ax = plt.subplot(1,4,i)\n",
    "# Generates 3 duplicate plots to keep the size similar to individual plots for kidney by\n",
    "# ensuring same number of axes.\n",
    "pd.DataFrame.iteritems = pd.DataFrame.items\n",
    "sns.barplot(data=df, palette=colors_dict, ax=ax)\n",
    "# sns.stripplot(data=df, palette=colors_dict, ax=ax, edgecolor=\"gray\",\n",
    "#              linewidth=1)\n",
    "ax.tick_params(axis='x', colors='black')\n",
    "ax.tick_params(axis='y', colors='black')\n",
    "    \n",
    "plt.xticks(rotation=45, ha=\"right\")\n",
    "plt.ylabel(\"JSD\")\n",
    "\n",
    "range_ = np.arange(0, df.max().max()+0.05, 0.1)\n",
    "plt.yticks(range_)\n",
    "plt.title(r\"${}$\".format(comb[0].capitalize()) + \" - \" + r\"${}$\".format(comb[1].capitalize()))\n",
    "plt.tight_layout()\n",
    "\n",
    "plt.savefig(os.path.join(savedir, \"3D_jsd_kidney.pdf\"), bbox_inches=\"tight\")\n",
    "plt.savefig(os.path.join(savedir, \"3D_jsd_kidney.png\"), bbox_inches=\"tight\", dpi=300)"
   ]
  },
  {
   "cell_type": "markdown",
   "id": "c642e171-bd7a-4cab-8f2d-48a65f94938c",
   "metadata": {},
   "source": [
    "# 3E"
   ]
  },
  {
   "cell_type": "code",
   "execution_count": 17,
   "id": "9a117ee5",
   "metadata": {},
   "outputs": [],
   "source": [
    "df_metadata = pd.read_table(os.path.join(datadir, \"metadata_kidney.txt\"), index_col=0)\n",
    "df_metadata = df_metadata.dropna()"
   ]
  },
  {
   "cell_type": "code",
   "execution_count": 18,
   "id": "f7d4f7a7",
   "metadata": {},
   "outputs": [],
   "source": [
    "import matplotlib.ticker as ticker"
   ]
  },
  {
   "cell_type": "code",
   "execution_count": 19,
   "id": "44257bed-6c22-47c6-80a7-11210c2b248d",
   "metadata": {},
   "outputs": [],
   "source": [
    "results_cats = comb"
   ]
  },
  {
   "cell_type": "code",
   "execution_count": 20,
   "id": "786adbb0",
   "metadata": {},
   "outputs": [],
   "source": [
    "methods = [\"MuSiC\", \"CibersortX\", \"Scaden\", \"TAPE-O\", \"TAPE-A\", \"Linear MLPs\", \"BayesPrism\", \"BayesPrism-M\", \"DISSECT\"]\n",
    "\n",
    "df_dict = {}\n",
    "for cat in results_cats:\n",
    "    df_dict[cat] = {}\n",
    "    results = [os.path.join(datadir, \"{}_{}.csv\".format(method.replace(\" \", \"_\"), cat.lower())) for method in methods]\n",
    "    results_dict = dict(zip(methods, results))\n",
    "    \n",
    "    for method in methods:\n",
    "        df = pd.read_csv(results_dict[method], index_col=0)\n",
    "        df_dict[cat][method] = df"
   ]
  },
  {
   "cell_type": "code",
   "execution_count": 21,
   "id": "da7d8a48",
   "metadata": {},
   "outputs": [],
   "source": [
    "sns.set(style=\"whitegrid\", font_scale=1)"
   ]
  },
  {
   "cell_type": "code",
   "execution_count": 22,
   "id": "189b0cb6",
   "metadata": {},
   "outputs": [],
   "source": [
    "palette = {\"Ctrl\": \"lightblue\", \"APOL1\": \"blue\"}"
   ]
  },
  {
   "cell_type": "code",
   "execution_count": 23,
   "id": "f45b006c",
   "metadata": {},
   "outputs": [],
   "source": [
    "methods = list(df_dict[\"Miao\"].keys())\n",
    "datasets = list(df_dict.keys())\n",
    "tick_spacing = .5\n"
   ]
  },
  {
   "cell_type": "code",
   "execution_count": 24,
   "id": "3de70e0a",
   "metadata": {},
   "outputs": [],
   "source": [
    "cts = [\"PT\", \"DCT\", \"Macro\"]"
   ]
  },
  {
   "cell_type": "code",
   "execution_count": 25,
   "id": "c2fc6ad9",
   "metadata": {},
   "outputs": [],
   "source": [
    "def change_width(ax, new_value) :\n",
    "    for patch in ax.patches :\n",
    "        current_width = patch.get_width()\n",
    "        diff = current_width - new_value\n",
    "\n",
    "        # we change the bar width\n",
    "        patch.set_width(new_value)\n",
    "\n",
    "        # we recenter the bar\n",
    "        patch.set_x(patch.get_x() + diff * .5)"
   ]
  },
  {
   "cell_type": "code",
   "execution_count": 26,
   "id": "8a02d436",
   "metadata": {},
   "outputs": [
    {
     "data": {
      "image/png": "[encoded data removed]",
      "text/plain": [
       "<Figure size 216x216 with 4 Axes>"
      ]
     },
     "metadata": {},
     "output_type": "display_data"
    },
    {
     "data": {
      "image/png": "[encoded data removed]",
      "text/plain": [
       "<Figure size 216x216 with 4 Axes>"
      ]
     },
     "metadata": {},
     "output_type": "display_data"
    },
    {
     "data": {
      "image/png": "[encoded data removed]",
      "text/plain": [
       "<Figure size 216x216 with 4 Axes>"
      ]
     },
     "metadata": {},
     "output_type": "display_data"
    }
   ],
   "source": [
    "j=1\n",
    "for ct in cts:\n",
    "    plt.figure(figsize=(3,3))\n",
    "    plt.suptitle(ct, ha=\"center\", va=\"center\")\n",
    "    i=1\n",
    "    methods1 = [\"TAPE-O\", \"DISSECT\"]\n",
    "    for dataset in datasets:\n",
    "        max_ct = max([df_dict[dataset][methods1[0]][ct].max(), df_dict[dataset][methods1[1]][ct].max()])\n",
    "        for method in methods1:\n",
    "            ax=plt.subplot(2,len(methods1),i)\n",
    "\n",
    "            y = df_dict[dataset][method].loc[df_metadata.index.tolist(), ct]\n",
    "\n",
    "            x = df_metadata[\"Condition\"]\n",
    "            tmp = pd.DataFrame(columns=[ct, \"Condition\"], index=x.index)\n",
    "            tmp[ct] = y.tolist()\n",
    "            tmp[\"Condition\"] = x.tolist()\n",
    "\n",
    "            tmp[\"Condition\"].replace({\"Kidney_G2-APOL1_risk allele\": \"APOL1\",\n",
    "                             \"WT\": \"Ctrl\"}, inplace=True)\n",
    "            tmp[\"x\"] = tmp[\"Condition\"].tolist()\n",
    "            tmp[\"x\"].replace({\"Ctrl\": 0, \"APOL1\": 1}, inplace=True)\n",
    "\n",
    "\n",
    "            sns.barplot(data=tmp, x=\"Condition\", y=ct, palette=palette, order=[\"Ctrl\", \"APOL1\"],\n",
    "                       ax=ax)\n",
    "            ax.tick_params(axis='x', colors='black')\n",
    "            ax.tick_params(axis='y', colors='black')\n",
    "            \n",
    "            change_width(ax, .35)\n",
    "            if i not in [1,3]:\n",
    "                plt.ylabel(\"\") \n",
    "                ax.set_yticklabels([])\n",
    "            else:\n",
    "                plt.ylabel(r\"${}$\".format(dataset))\n",
    "            \n",
    "            range_ = np.arange(0, max_ct+round(max_ct/4,2), round(max_ct/4,2))\n",
    "            plt.yticks(range_)\n",
    "            \n",
    "           \n",
    "            ax.set_xticklabels([\"Ctrl\", \"APOL1\"], fontsize=12.5, )\n",
    "            if i<3:\n",
    "                plt.xticks([])\n",
    "                plt.title(method, fontsize=13)\n",
    "            plt.xlabel(\"\")\n",
    "            i+=1\n",
    "\n",
    "    plt.savefig(os.path.join(savedir, f\"3E{j}_kidney_conditions.pdf\"), bbox_inches=\"tight\")\n",
    "    plt.savefig(os.path.join(savedir, f\"3E{j}_kidney_conditions.png\"), bbox_inches=\"tight\", dpi=300)\n",
    "    plt.show()\n",
    "    j+=1"
   ]
  },
  {
   "cell_type": "code",
   "execution_count": null,
   "id": "9d15e9b5-b67c-47cd-8f59-94a4f50b88a3",
   "metadata": {},
   "outputs": [],
   "source": []
  }
 ],
 "metadata": {
  "kernelspec": {
   "display_name": "Python 3 (ipykernel)",
   "language": "python",
   "name": "python3"
  },
  "language_info": {
   "codemirror_mode": {
    "name": "ipython",
    "version": 3
   },
   "file_extension": ".py",
   "mimetype": "text/x-python",
   "name": "python",
   "nbconvert_exporter": "python",
   "pygments_lexer": "ipython3",
   "version": "3.9.6"
  }
 },
 "nbformat": 4,
 "nbformat_minor": 5
}
